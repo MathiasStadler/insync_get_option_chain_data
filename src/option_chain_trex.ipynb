{
 "cells": [
  {
   "cell_type": "markdown",
   "metadata": {},
   "source": [
    "Option chains\n",
    "======="
   ]
  },
  {
   "cell_type": "code",
   "execution_count": 24,
   "metadata": {
    "scrolled": true
   },
   "outputs": [
    {
     "data": {
      "text/plain": [
       "<IB connected to 127.0.0.1:7496 clientId=12>"
      ]
     },
     "execution_count": 24,
     "metadata": {},
     "output_type": "execute_result"
    }
   ],
   "source": [
    "from ib_insync import *\n",
    "util.startLoop()\n",
    "\n",
    "ib = IB()\n",
    "ib.connect('127.0.0.1', 7496, clientId=12)"
   ]
  },
  {
   "cell_type": "markdown",
   "metadata": {},
   "source": [
    "Suppose we want to find the options on the SPX, with the following conditions:\n",
    "\n",
    "* Use the next three monthly expiries;\n",
    "* Use strike prices within +- 20 dollar of the current SPX value;\n",
    "* Use strike prices that are a multitude of 5 dollar."
   ]
  },
  {
   "cell_type": "markdown",
   "metadata": {},
   "source": [
    "To get the current market value, first create a contract for the underlyer (the S&P 500 index):"
   ]
  },
  {
   "cell_type": "code",
   "execution_count": 25,
   "metadata": {},
   "outputs": [
    {
     "data": {
      "text/plain": [
       "[Index(conId=416904, symbol='SPX', exchange='CBOE', currency='USD', localSymbol='SPX')]"
      ]
     },
     "execution_count": 25,
     "metadata": {},
     "output_type": "execute_result"
    }
   ],
   "source": [
    "spx = Index('SPX', 'CBOE')\n",
    "ib.qualifyContracts(spx)"
   ]
  },
  {
   "cell_type": "markdown",
   "metadata": {},
   "source": [
    "To avoid issues with market data permissions, we'll use delayed data:"
   ]
  },
  {
   "cell_type": "code",
   "execution_count": 26,
   "metadata": {},
   "outputs": [],
   "source": [
    "ib.reqMarketDataType(4)"
   ]
  },
  {
   "cell_type": "markdown",
   "metadata": {},
   "source": [
    "Then get the ticker. Requesting a ticker can take up to 11 seconds."
   ]
  },
  {
   "cell_type": "code",
   "execution_count": 27,
   "metadata": {},
   "outputs": [
    {
     "data": {
      "text/plain": [
       "Ticker(contract=Index(conId=416904, symbol='SPX', exchange='CBOE', currency='USD', localSymbol='SPX'), time=datetime.datetime(2025, 1, 28, 18, 0, 1, 431223, tzinfo=datetime.timezone.utc), marketDataType=3, minTick=0.01, bid=-1.0, bidSize=0.0, ask=-1.0, askSize=0.0, last=6056.01, lastSize=1.0, high=6060.63, low=5994.63, close=6012.28)"
      ]
     },
     "execution_count": 27,
     "metadata": {},
     "output_type": "execute_result"
    }
   ],
   "source": [
    "[ticker] = ib.reqTickers(spx)\n",
    "ticker"
   ]
  },
  {
   "cell_type": "markdown",
   "metadata": {},
   "source": [
    "Take the current market value of the ticker:"
   ]
  },
  {
   "cell_type": "code",
   "execution_count": 28,
   "metadata": {},
   "outputs": [
    {
     "data": {
      "text/plain": [
       "6056.01"
      ]
     },
     "execution_count": 28,
     "metadata": {},
     "output_type": "execute_result"
    }
   ],
   "source": [
    "spxValue = ticker.marketPrice()\n",
    "spxValue"
   ]
  },
  {
   "cell_type": "markdown",
   "metadata": {},
   "source": [
    "The following request fetches a list of option chains:"
   ]
  },
  {
   "cell_type": "code",
   "execution_count": 29,
   "metadata": {},
   "outputs": [
    {
     "data": {
      "text/html": [
       "<div>\n",
       "<style scoped>\n",
       "    .dataframe tbody tr th:only-of-type {\n",
       "        vertical-align: middle;\n",
       "    }\n",
       "\n",
       "    .dataframe tbody tr th {\n",
       "        vertical-align: top;\n",
       "    }\n",
       "\n",
       "    .dataframe thead th {\n",
       "        text-align: right;\n",
       "    }\n",
       "</style>\n",
       "<table border=\"1\" class=\"dataframe\">\n",
       "  <thead>\n",
       "    <tr style=\"text-align: right;\">\n",
       "      <th></th>\n",
       "      <th>exchange</th>\n",
       "      <th>underlyingConId</th>\n",
       "      <th>tradingClass</th>\n",
       "      <th>multiplier</th>\n",
       "      <th>expirations</th>\n",
       "      <th>strikes</th>\n",
       "    </tr>\n",
       "  </thead>\n",
       "  <tbody>\n",
       "    <tr>\n",
       "      <th>0</th>\n",
       "      <td>SMART</td>\n",
       "      <td>416904</td>\n",
       "      <td>SPX</td>\n",
       "      <td>100</td>\n",
       "      <td>[20250220, 20250320, 20250416, 20250515, 20250...</td>\n",
       "      <td>[200.0, 400.0, 500.0, 600.0, 800.0, 1000.0, 12...</td>\n",
       "    </tr>\n",
       "    <tr>\n",
       "      <th>1</th>\n",
       "      <td>IBUSOPT</td>\n",
       "      <td>416904</td>\n",
       "      <td>SPX</td>\n",
       "      <td>100</td>\n",
       "      <td>[20250220, 20250320, 20250416, 20250515, 20250...</td>\n",
       "      <td>[200.0, 400.0, 500.0, 600.0, 800.0, 1000.0, 12...</td>\n",
       "    </tr>\n",
       "    <tr>\n",
       "      <th>2</th>\n",
       "      <td>CBOE</td>\n",
       "      <td>416904</td>\n",
       "      <td>SPXW</td>\n",
       "      <td>100</td>\n",
       "      <td>[20250128, 20250129, 20250130, 20250131, 20250...</td>\n",
       "      <td>[200.0, 400.0, 600.0, 800.0, 1000.0, 1200.0, 1...</td>\n",
       "    </tr>\n",
       "    <tr>\n",
       "      <th>3</th>\n",
       "      <td>IBUSOPT</td>\n",
       "      <td>416904</td>\n",
       "      <td>SPXW</td>\n",
       "      <td>100</td>\n",
       "      <td>[20250128, 20250129, 20250130, 20250131, 20250...</td>\n",
       "      <td>[200.0, 400.0, 600.0, 800.0, 1000.0, 1200.0, 1...</td>\n",
       "    </tr>\n",
       "    <tr>\n",
       "      <th>4</th>\n",
       "      <td>SMART</td>\n",
       "      <td>416904</td>\n",
       "      <td>SPXW</td>\n",
       "      <td>100</td>\n",
       "      <td>[20250128, 20250129, 20250130, 20250131, 20250...</td>\n",
       "      <td>[200.0, 400.0, 600.0, 800.0, 1000.0, 1200.0, 1...</td>\n",
       "    </tr>\n",
       "    <tr>\n",
       "      <th>5</th>\n",
       "      <td>CBOE</td>\n",
       "      <td>416904</td>\n",
       "      <td>SPX</td>\n",
       "      <td>100</td>\n",
       "      <td>[20250220, 20250320, 20250416, 20250515, 20250...</td>\n",
       "      <td>[200.0, 400.0, 500.0, 600.0, 800.0, 1000.0, 12...</td>\n",
       "    </tr>\n",
       "  </tbody>\n",
       "</table>\n",
       "</div>"
      ],
      "text/plain": [
       "  exchange underlyingConId tradingClass multiplier  \\\n",
       "0    SMART          416904          SPX        100   \n",
       "1  IBUSOPT          416904          SPX        100   \n",
       "2     CBOE          416904         SPXW        100   \n",
       "3  IBUSOPT          416904         SPXW        100   \n",
       "4    SMART          416904         SPXW        100   \n",
       "5     CBOE          416904          SPX        100   \n",
       "\n",
       "                                         expirations  \\\n",
       "0  [20250220, 20250320, 20250416, 20250515, 20250...   \n",
       "1  [20250220, 20250320, 20250416, 20250515, 20250...   \n",
       "2  [20250128, 20250129, 20250130, 20250131, 20250...   \n",
       "3  [20250128, 20250129, 20250130, 20250131, 20250...   \n",
       "4  [20250128, 20250129, 20250130, 20250131, 20250...   \n",
       "5  [20250220, 20250320, 20250416, 20250515, 20250...   \n",
       "\n",
       "                                             strikes  \n",
       "0  [200.0, 400.0, 500.0, 600.0, 800.0, 1000.0, 12...  \n",
       "1  [200.0, 400.0, 500.0, 600.0, 800.0, 1000.0, 12...  \n",
       "2  [200.0, 400.0, 600.0, 800.0, 1000.0, 1200.0, 1...  \n",
       "3  [200.0, 400.0, 600.0, 800.0, 1000.0, 1200.0, 1...  \n",
       "4  [200.0, 400.0, 600.0, 800.0, 1000.0, 1200.0, 1...  \n",
       "5  [200.0, 400.0, 500.0, 600.0, 800.0, 1000.0, 12...  "
      ]
     },
     "execution_count": 29,
     "metadata": {},
     "output_type": "execute_result"
    }
   ],
   "source": [
    "chains = ib.reqSecDefOptParams(spx.symbol, '', spx.secType, spx.conId)\n",
    "\n",
    "util.df(chains)"
   ]
  },
  {
   "cell_type": "markdown",
   "metadata": {},
   "source": [
    "These are four option chains that differ in ``exchange`` and ``tradingClass``. The latter is 'SPX' for the monthly and  'SPXW' for the weekly options. Note that the weekly expiries are disjoint from the monthly ones, so when interested in the weekly options the monthly options can be added as well.\n",
    "\n",
    "In this case we're only interested in the monthly options trading on SMART:"
   ]
  },
  {
   "cell_type": "code",
   "execution_count": 30,
   "metadata": {},
   "outputs": [
    {
     "data": {
      "text/plain": [
       "OptionChain(exchange='SMART', underlyingConId='416904', tradingClass='SPX', multiplier='100', expirations=['20250220', '20250320', '20250416', '20250515', '20250618', '20250717', '20250814', '20250918', '20251016', '20251120', '20251218', '20260115', '20260219', '20260319', '20260617', '20261217', '20271216', '20281214', '20291220', '20301219'], strikes=[200.0, 400.0, 500.0, 600.0, 800.0, 1000.0, 1200.0, 1400.0, 1600.0, 1800.0, 1900.0, 2000.0, 2100.0, 2200.0, 2300.0, 2400.0, 2500.0, 2600.0, 2700.0, 2800.0, 2850.0, 2900.0, 2950.0, 3000.0, 3050.0, 3100.0, 3150.0, 3200.0, 3250.0, 3300.0, 3325.0, 3350.0, 3375.0, 3400.0, 3425.0, 3450.0, 3475.0, 3500.0, 3525.0, 3550.0, 3575.0, 3600.0, 3625.0, 3650.0, 3675.0, 3700.0, 3725.0, 3750.0, 3775.0, 3800.0, 3825.0, 3850.0, 3875.0, 3900.0, 3925.0, 3950.0, 3975.0, 4000.0, 4025.0, 4050.0, 4075.0, 4100.0, 4125.0, 4150.0, 4175.0, 4200.0, 4225.0, 4250.0, 4275.0, 4300.0, 4325.0, 4350.0, 4375.0, 4400.0, 4425.0, 4450.0, 4475.0, 4500.0, 4525.0, 4550.0, 4575.0, 4600.0, 4625.0, 4650.0, 4675.0, 4700.0, 4725.0, 4750.0, 4775.0, 4800.0, 4825.0, 4850.0, 4875.0, 4890.0, 4900.0, 4910.0, 4920.0, 4925.0, 4930.0, 4940.0, 4950.0, 4960.0, 4970.0, 4975.0, 4980.0, 4990.0, 5000.0, 5010.0, 5020.0, 5025.0, 5030.0, 5040.0, 5050.0, 5060.0, 5070.0, 5075.0, 5080.0, 5090.0, 5100.0, 5110.0, 5120.0, 5125.0, 5130.0, 5140.0, 5150.0, 5160.0, 5170.0, 5175.0, 5180.0, 5190.0, 5200.0, 5210.0, 5220.0, 5225.0, 5230.0, 5240.0, 5250.0, 5260.0, 5270.0, 5275.0, 5280.0, 5290.0, 5300.0, 5310.0, 5320.0, 5325.0, 5330.0, 5340.0, 5350.0, 5360.0, 5370.0, 5375.0, 5380.0, 5390.0, 5400.0, 5410.0, 5420.0, 5425.0, 5430.0, 5440.0, 5450.0, 5460.0, 5470.0, 5475.0, 5480.0, 5485.0, 5490.0, 5495.0, 5500.0, 5505.0, 5510.0, 5515.0, 5520.0, 5525.0, 5530.0, 5535.0, 5540.0, 5545.0, 5550.0, 5555.0, 5560.0, 5565.0, 5570.0, 5575.0, 5580.0, 5585.0, 5590.0, 5595.0, 5600.0, 5605.0, 5610.0, 5615.0, 5620.0, 5625.0, 5630.0, 5635.0, 5640.0, 5645.0, 5650.0, 5655.0, 5660.0, 5665.0, 5670.0, 5675.0, 5680.0, 5685.0, 5690.0, 5695.0, 5700.0, 5705.0, 5710.0, 5715.0, 5720.0, 5725.0, 5730.0, 5735.0, 5740.0, 5745.0, 5750.0, 5755.0, 5760.0, 5765.0, 5770.0, 5775.0, 5780.0, 5785.0, 5790.0, 5795.0, 5800.0, 5805.0, 5810.0, 5815.0, 5820.0, 5825.0, 5830.0, 5835.0, 5840.0, 5845.0, 5850.0, 5855.0, 5860.0, 5865.0, 5870.0, 5875.0, 5880.0, 5885.0, 5890.0, 5895.0, 5900.0, 5905.0, 5910.0, 5915.0, 5920.0, 5925.0, 5930.0, 5935.0, 5940.0, 5945.0, 5950.0, 5955.0, 5960.0, 5965.0, 5970.0, 5975.0, 5980.0, 5985.0, 5990.0, 5995.0, 6000.0, 6005.0, 6010.0, 6015.0, 6020.0, 6025.0, 6030.0, 6035.0, 6040.0, 6045.0, 6050.0, 6055.0, 6060.0, 6065.0, 6070.0, 6075.0, 6080.0, 6085.0, 6090.0, 6095.0, 6100.0, 6105.0, 6110.0, 6115.0, 6120.0, 6125.0, 6130.0, 6135.0, 6140.0, 6145.0, 6150.0, 6155.0, 6160.0, 6165.0, 6170.0, 6175.0, 6180.0, 6185.0, 6190.0, 6195.0, 6200.0, 6205.0, 6210.0, 6215.0, 6220.0, 6225.0, 6230.0, 6235.0, 6240.0, 6245.0, 6250.0, 6255.0, 6260.0, 6265.0, 6270.0, 6275.0, 6280.0, 6285.0, 6290.0, 6295.0, 6300.0, 6305.0, 6310.0, 6315.0, 6320.0, 6325.0, 6330.0, 6335.0, 6340.0, 6345.0, 6350.0, 6355.0, 6360.0, 6365.0, 6370.0, 6375.0, 6380.0, 6385.0, 6390.0, 6395.0, 6400.0, 6410.0, 6420.0, 6425.0, 6430.0, 6440.0, 6450.0, 6460.0, 6470.0, 6475.0, 6480.0, 6490.0, 6500.0, 6510.0, 6520.0, 6525.0, 6530.0, 6540.0, 6550.0, 6560.0, 6570.0, 6575.0, 6580.0, 6590.0, 6600.0, 6610.0, 6620.0, 6625.0, 6630.0, 6640.0, 6650.0, 6660.0, 6670.0, 6675.0, 6680.0, 6690.0, 6700.0, 6725.0, 6750.0, 6775.0, 6800.0, 6825.0, 6850.0, 6875.0, 6900.0, 6925.0, 6950.0, 6975.0, 7000.0, 7050.0, 7100.0, 7150.0, 7200.0, 7250.0, 7300.0, 7400.0, 7500.0, 7600.0, 7700.0, 7800.0, 7900.0, 8000.0, 8100.0, 8200.0, 8300.0, 8400.0, 8500.0, 8600.0, 8700.0, 8800.0, 8900.0, 9000.0, 9200.0, 9400.0, 9600.0, 9800.0, 10000.0, 10200.0, 10400.0, 10800.0, 10900.0, 11000.0, 12000.0])"
      ]
     },
     "execution_count": 30,
     "metadata": {},
     "output_type": "execute_result"
    }
   ],
   "source": [
    "chain = next(c for c in chains if c.tradingClass == 'SPX' and c.exchange == 'SMART')\n",
    "chain"
   ]
  },
  {
   "cell_type": "markdown",
   "metadata": {},
   "source": [
    "What we have here is the full matrix of expirations x strikes. From this we can build all the option contracts that meet our conditions:"
   ]
  },
  {
   "cell_type": "code",
   "execution_count": 31,
   "metadata": {},
   "outputs": [
    {
     "data": {
      "text/plain": [
       "48"
      ]
     },
     "execution_count": 31,
     "metadata": {},
     "output_type": "execute_result"
    }
   ],
   "source": [
    "strikes = [strike for strike in chain.strikes\n",
    "        if strike % 5 == 0\n",
    "        and spxValue - 20 < strike < spxValue + 20]\n",
    "expirations = sorted(exp for exp in chain.expirations)[:3]\n",
    "rights = ['P', 'C']\n",
    "\n",
    "contracts = [Option('SPX', expiration, strike, right, 'SMART', tradingClass='SPX')\n",
    "        for right in rights\n",
    "        for expiration in expirations\n",
    "        for strike in strikes]\n",
    "\n",
    "contracts = ib.qualifyContracts(*contracts)\n",
    "len(contracts)"
   ]
  },
  {
   "cell_type": "code",
   "execution_count": 32,
   "metadata": {},
   "outputs": [
    {
     "data": {
      "text/plain": [
       "Option(conId=730411519, symbol='SPX', lastTradeDateOrContractMonth='20250220', strike=6040.0, right='P', multiplier='100', exchange='SMART', currency='USD', localSymbol='SPX   250221P06040000', tradingClass='SPX')"
      ]
     },
     "execution_count": 32,
     "metadata": {},
     "output_type": "execute_result"
    }
   ],
   "source": [
    "contracts[0]"
   ]
  },
  {
   "cell_type": "markdown",
   "metadata": {},
   "source": [
    "Now to get the market data for all options in one go:"
   ]
  },
  {
   "cell_type": "code",
   "execution_count": 38,
   "metadata": {},
   "outputs": [
    {
     "ename": "TypeError",
     "evalue": "'Ticker' object is not iterable",
     "output_type": "error",
     "traceback": [
      "\u001b[0;31m---------------------------------------------------------------------------\u001b[0m",
      "\u001b[0;31mTypeError\u001b[0m                                 Traceback (most recent call last)",
      "Cell \u001b[0;32mIn[38], line 7\u001b[0m\n\u001b[1;32m      1\u001b[0m \u001b[38;5;66;03m#ask\u001b[39;00m\n\u001b[1;32m      2\u001b[0m \u001b[38;5;66;03m#bid\u001b[39;00m\n\u001b[1;32m      3\u001b[0m tickers \u001b[38;5;241m=\u001b[39m ib\u001b[38;5;241m.\u001b[39mreqTickers(\u001b[38;5;241m*\u001b[39mcontracts)\n\u001b[0;32m----> 7\u001b[0m \u001b[43mutil\u001b[49m\u001b[38;5;241;43m.\u001b[39;49m\u001b[43mdf\u001b[49m\u001b[43m(\u001b[49m\u001b[43mtickers\u001b[49m\u001b[43m[\u001b[49m\u001b[38;5;241;43m0\u001b[39;49m\u001b[43m]\u001b[49m\u001b[43m)\u001b[49m\n",
      "File \u001b[0;32m~/insync_get_option_chain_data/.venv/lib/python3.11/site-packages/ib_insync/util.py:44\u001b[0m, in \u001b[0;36mdf\u001b[0;34m(objs, labels)\u001b[0m\n\u001b[1;32m     42\u001b[0m \u001b[38;5;28;01mfrom\u001b[39;00m\u001b[38;5;250m \u001b[39m\u001b[38;5;21;01m.\u001b[39;00m\u001b[38;5;21;01mobjects\u001b[39;00m\u001b[38;5;250m \u001b[39m\u001b[38;5;28;01mimport\u001b[39;00m DynamicObject\n\u001b[1;32m     43\u001b[0m \u001b[38;5;28;01mif\u001b[39;00m objs:\n\u001b[0;32m---> 44\u001b[0m     objs \u001b[38;5;241m=\u001b[39m \u001b[38;5;28;43mlist\u001b[39;49m\u001b[43m(\u001b[49m\u001b[43mobjs\u001b[49m\u001b[43m)\u001b[49m\n\u001b[1;32m     45\u001b[0m     obj \u001b[38;5;241m=\u001b[39m objs[\u001b[38;5;241m0\u001b[39m]\n\u001b[1;32m     46\u001b[0m     \u001b[38;5;28;01mif\u001b[39;00m is_dataclass(obj):\n",
      "\u001b[0;31mTypeError\u001b[0m: 'Ticker' object is not iterable"
     ]
    }
   ],
   "source": [
    "#ask\n",
    "#bid\n",
    "tickers = ib.reqTickers(*contracts)\n",
    "\n",
    "\n",
    "\n",
    "tickers[0]"
   ]
  },
  {
   "cell_type": "markdown",
   "metadata": {},
   "source": [
    "The option greeks are available from the ``modelGreeks`` attribute, and if there is a bid, ask resp. last price available also from ``bidGreeks``, ``askGreeks`` and ``lastGreeks``. For streaming ticks the greek values will be kept up to date to the current market situation."
   ]
  },
  {
   "cell_type": "code",
   "execution_count": 23,
   "metadata": {},
   "outputs": [],
   "source": [
    "ib.disconnect()"
   ]
  }
 ],
 "metadata": {
  "kernelspec": {
   "display_name": ".venv",
   "language": "python",
   "name": "python3"
  },
  "language_info": {
   "codemirror_mode": {
    "name": "ipython",
    "version": 3
   },
   "file_extension": ".py",
   "mimetype": "text/x-python",
   "name": "python",
   "nbconvert_exporter": "python",
   "pygments_lexer": "ipython3",
   "version": "3.11.2"
  }
 },
 "nbformat": 4,
 "nbformat_minor": 4
}
