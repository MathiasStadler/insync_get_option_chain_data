{
 "cells": [
  {
   "cell_type": "markdown",
   "metadata": {},
   "source": [
    "# Basics\n",
    "\n",
    "Let's first take a look at what's inside the ``ib_insync`` package:"
   ]
  },
  {
   "cell_type": "code",
   "execution_count": null,
   "metadata": {},
   "outputs": [],
   "source": [
    "import ib_insync\n",
    "print(ib_insync.__all__)"
   ]
  },
  {
   "cell_type": "markdown",
   "metadata": {},
   "source": [
    "### Importing\n",
    "The following two lines are used at the top of all notebooks. The first line imports everything and the second\n",
    "starts an event loop to keep the notebook live updated:"
   ]
  },
  {
   "cell_type": "code",
   "execution_count": null,
   "metadata": {},
   "outputs": [],
   "source": [
    "from ib_insync import *\n",
    "util.startLoop()"
   ]
  },
  {
   "cell_type": "markdown",
   "metadata": {},
   "source": [
    "*Note that startLoop() only works in notebooks, not in regular Python programs.*"
   ]
  },
  {
   "cell_type": "markdown",
   "metadata": {},
   "source": [
    "### Connecting\n",
    "The main player of the whole package is the \"IB\" class. Let's create an IB instance and connect to a running TWS/IBG application:"
   ]
  },
  {
   "cell_type": "code",
   "execution_count": null,
   "metadata": {
    "scrolled": true
   },
   "outputs": [
    {
     "name": "stderr",
     "output_type": "stream",
     "text": [
      "2025-04-07 21:39:54,895 ib_insync.wrapper INFO updatePortfolio: PortfolioItem(contract=Stock(conId=4347, symbol='ALB', right='0', primaryExchange='NYSE', currency='USD', localSymbol='ALB', tradingClass='ALB'), position=100.0, marketPrice=58.02152635, marketValue=5802.15, averageCost=73.137174, unrealizedPNL=-1511.56, realizedPNL=0.0, account='DU5417029')\n",
      "2025-04-07 21:39:54,899 ib_insync.wrapper INFO updatePortfolio: PortfolioItem(contract=Stock(conId=270639, symbol='INTC', right='0', primaryExchange='ISLAND', currency='USD', localSymbol='INTC', tradingClass='NMS'), position=100.0, marketPrice=19.526001, marketValue=1952.6, averageCost=23.348113, unrealizedPNL=-382.21, realizedPNL=0.0, account='DU5417029')\n",
      "2025-04-07 21:39:54,905 ib_insync.wrapper INFO updatePortfolio: PortfolioItem(contract=Stock(conId=208813720, symbol='GOOG', right='0', primaryExchange='ISLAND', currency='USD', localSymbol='GOOG', tradingClass='NMS'), position=-200.0, marketPrice=149.28697205, marketValue=-29857.39, averageCost=157.5295695, unrealizedPNL=1648.52, realizedPNL=0.0, account='DU5417029')\n",
      "2025-04-07 21:39:54,906 ib_insync.wrapper INFO updatePortfolio: PortfolioItem(contract=Stock(conId=436980133, symbol='LI', right='0', primaryExchange='ISLAND', currency='USD', localSymbol='LI', tradingClass='NMS'), position=100.0, marketPrice=21.47999955, marketValue=2148.0, averageCost=25.704017, unrealizedPNL=-422.4, realizedPNL=0.0, account='DU5417029')\n",
      "2025-04-07 21:39:54,907 ib_insync.wrapper INFO updatePortfolio: PortfolioItem(contract=Option(conId=722886411, symbol='CTSH', lastTradeDateOrContractMonth='20250417', strike=72.5, right='P', multiplier='100', primaryExchange='AMEX', currency='USD', localSymbol='CTSH  250417P00072500', tradingClass='CTSH'), position=1.0, marketPrice=5.9959588, marketValue=599.6, averageCost=61.0567, unrealizedPNL=538.54, realizedPNL=0.0, account='DU5417029')\n",
      "2025-04-07 21:39:54,909 ib_insync.wrapper INFO updatePortfolio: PortfolioItem(contract=Option(conId=722886491, symbol='CTSH', lastTradeDateOrContractMonth='20250417', strike=75.0, right='P', multiplier='100', primaryExchange='AMEX', currency='USD', localSymbol='CTSH  250417P00075000', tradingClass='CTSH'), position=-3.0, marketPrice=7.9771571, marketValue=-2393.15, averageCost=94.43793335, unrealizedPNL=-2109.83, realizedPNL=0.0, account='DU5417029')\n",
      "2025-04-07 21:39:54,910 ib_insync.wrapper INFO updatePortfolio: PortfolioItem(contract=Option(conId=755327744, symbol='BIDU', lastTradeDateOrContractMonth='20250516', strike=90.0, right='P', multiplier='100', primaryExchange='AMEX', currency='USD', localSymbol='BIDU  250516P00090000', tradingClass='BIDU'), position=1.0, marketPrice=12.41636085, marketValue=1241.64, averageCost=283.6367, unrealizedPNL=958.0, realizedPNL=0.0, account='DU5417029')\n",
      "2025-04-07 21:39:54,911 ib_insync.wrapper INFO updatePortfolio: PortfolioItem(contract=Option(conId=755327783, symbol='BIDU', lastTradeDateOrContractMonth='20250516', strike=95.0, right='P', multiplier='100', primaryExchange='AMEX', currency='USD', localSymbol='BIDU  250516P00095000', tradingClass='BIDU'), position=-2.0, marketPrice=16.3210163, marketValue=-3264.2, averageCost=429.6986, unrealizedPNL=-2404.81, realizedPNL=0.0, account='DU5417029')\n",
      "2025-04-07 21:39:54,912 ib_insync.wrapper INFO updatePortfolio: PortfolioItem(contract=Option(conId=760988597, symbol='ALB', lastTradeDateOrContractMonth='20250404', strike=75.0, right='P', multiplier='100', primaryExchange='AMEX', currency='USD', localSymbol='ALB   250404P00075000', tradingClass='ALB'), position=0.0, marketPrice=16.9784546, marketValue=0.0, averageCost=0.0, unrealizedPNL=0.0, realizedPNL=0.0, account='DU5417029')\n",
      "2025-04-07 21:39:54,912 ib_insync.wrapper INFO updatePortfolio: PortfolioItem(contract=Option(conId=760988670, symbol='ALB', lastTradeDateOrContractMonth='20250404', strike=76.0, right='P', multiplier='100', primaryExchange='AMEX', currency='USD', localSymbol='ALB   250404P00076000', tradingClass='ALB'), position=0.0, marketPrice=17.9784546, marketValue=0.0, averageCost=0.0, unrealizedPNL=0.0, realizedPNL=0.0, account='DU5417029')\n",
      "2025-04-07 21:39:54,913 ib_insync.wrapper INFO updatePortfolio: PortfolioItem(contract=Option(conId=763248394, symbol='WSM', lastTradeDateOrContractMonth='20250417', strike=145.0, right='P', multiplier='100', primaryExchange='AMEX', currency='USD', localSymbol='WSM   250417P00145000', tradingClass='WSM'), position=-2.0, marketPrice=7.97111845, marketValue=-1594.22, averageCost=510.0264, unrealizedPNL=-574.17, realizedPNL=0.0, account='DU5417029')\n",
      "2025-04-07 21:39:54,914 ib_insync.wrapper INFO updatePortfolio: PortfolioItem(contract=Option(conId=763248479, symbol='WSM', lastTradeDateOrContractMonth='20250417', strike=150.0, right='P', multiplier='100', primaryExchange='AMEX', currency='USD', localSymbol='WSM   250417P00150000', tradingClass='WSM'), position=1.0, marketPrice=10.7745533, marketValue=1077.46, averageCost=760.3067, unrealizedPNL=317.15, realizedPNL=0.0, account='DU5417029')\n",
      "2025-04-07 21:40:15,913 ib_insync.wrapper INFO updatePortfolio: PortfolioItem(contract=Stock(conId=4347, symbol='ALB', right='0', primaryExchange='NYSE', currency='USD', localSymbol='ALB', tradingClass='ALB'), position=100.0, marketPrice=57.9939995, marketValue=5799.4, averageCost=73.137174, unrealizedPNL=-1514.32, realizedPNL=0.0, account='DU5417029')\n",
      "2025-04-07 21:40:15,915 ib_insync.wrapper INFO updatePortfolio: PortfolioItem(contract=Stock(conId=270639, symbol='INTC', right='0', primaryExchange='ISLAND', currency='USD', localSymbol='INTC', tradingClass='NMS'), position=100.0, marketPrice=19.5060959, marketValue=1950.61, averageCost=23.348113, unrealizedPNL=-384.2, realizedPNL=0.0, account='DU5417029')\n",
      "2025-04-07 21:40:15,916 ib_insync.wrapper INFO updatePortfolio: PortfolioItem(contract=Stock(conId=208813720, symbol='GOOG', right='0', primaryExchange='ISLAND', currency='USD', localSymbol='GOOG', tradingClass='NMS'), position=-200.0, marketPrice=149.046463, marketValue=-29809.29, averageCost=157.5295695, unrealizedPNL=1696.62, realizedPNL=0.0, account='DU5417029')\n",
      "2025-04-07 21:40:15,918 ib_insync.wrapper INFO updatePortfolio: PortfolioItem(contract=Stock(conId=436980133, symbol='LI', right='0', primaryExchange='ISLAND', currency='USD', localSymbol='LI', tradingClass='NMS'), position=100.0, marketPrice=21.4338932, marketValue=2143.39, averageCost=25.704017, unrealizedPNL=-427.01, realizedPNL=0.0, account='DU5417029')\n",
      "2025-04-07 21:40:15,919 ib_insync.wrapper INFO updatePortfolio: PortfolioItem(contract=Option(conId=722886411, symbol='CTSH', lastTradeDateOrContractMonth='20250417', strike=72.5, right='P', multiplier='100', primaryExchange='AMEX', currency='USD', localSymbol='CTSH  250417P00072500', tradingClass='CTSH'), position=1.0, marketPrice=6.05747415, marketValue=605.75, averageCost=61.0567, unrealizedPNL=544.69, realizedPNL=0.0, account='DU5417029')\n",
      "2025-04-07 21:40:15,921 ib_insync.wrapper INFO updatePortfolio: PortfolioItem(contract=Option(conId=722886491, symbol='CTSH', lastTradeDateOrContractMonth='20250417', strike=75.0, right='P', multiplier='100', primaryExchange='AMEX', currency='USD', localSymbol='CTSH  250417P00075000', tradingClass='CTSH'), position=-3.0, marketPrice=8.0965891, marketValue=-2428.98, averageCost=94.43793335, unrealizedPNL=-2145.66, realizedPNL=0.0, account='DU5417029')\n",
      "2025-04-07 21:40:15,922 ib_insync.wrapper INFO updatePortfolio: PortfolioItem(contract=Option(conId=755327744, symbol='BIDU', lastTradeDateOrContractMonth='20250516', strike=90.0, right='P', multiplier='100', primaryExchange='AMEX', currency='USD', localSymbol='BIDU  250516P00090000', tradingClass='BIDU'), position=1.0, marketPrice=12.52946185, marketValue=1252.95, averageCost=283.6367, unrealizedPNL=969.31, realizedPNL=0.0, account='DU5417029')\n",
      "2025-04-07 21:40:15,923 ib_insync.wrapper INFO updatePortfolio: PortfolioItem(contract=Option(conId=755327783, symbol='BIDU', lastTradeDateOrContractMonth='20250516', strike=95.0, right='P', multiplier='100', primaryExchange='AMEX', currency='USD', localSymbol='BIDU  250516P00095000', tradingClass='BIDU'), position=-2.0, marketPrice=16.46297455, marketValue=-3292.59, averageCost=429.6986, unrealizedPNL=-2433.2, realizedPNL=0.0, account='DU5417029')\n",
      "2025-04-07 21:40:15,924 ib_insync.wrapper INFO updatePortfolio: PortfolioItem(contract=Option(conId=760988597, symbol='ALB', lastTradeDateOrContractMonth='20250404', strike=75.0, right='P', multiplier='100', primaryExchange='AMEX', currency='USD', localSymbol='ALB   250404P00075000', tradingClass='ALB'), position=0.0, marketPrice=17.00598145, marketValue=0.0, averageCost=0.0, unrealizedPNL=0.0, realizedPNL=0.0, account='DU5417029')\n",
      "2025-04-07 21:40:15,925 ib_insync.wrapper INFO updatePortfolio: PortfolioItem(contract=Option(conId=760988670, symbol='ALB', lastTradeDateOrContractMonth='20250404', strike=76.0, right='P', multiplier='100', primaryExchange='AMEX', currency='USD', localSymbol='ALB   250404P00076000', tradingClass='ALB'), position=0.0, marketPrice=18.00598145, marketValue=0.0, averageCost=0.0, unrealizedPNL=0.0, realizedPNL=0.0, account='DU5417029')\n",
      "2025-04-07 21:40:15,927 ib_insync.wrapper INFO updatePortfolio: PortfolioItem(contract=Option(conId=763248394, symbol='WSM', lastTradeDateOrContractMonth='20250417', strike=145.0, right='P', multiplier='100', primaryExchange='AMEX', currency='USD', localSymbol='WSM   250417P00145000', tradingClass='WSM'), position=-2.0, marketPrice=8.1631918, marketValue=-1632.64, averageCost=510.0264, unrealizedPNL=-612.59, realizedPNL=0.0, account='DU5417029')\n",
      "2025-04-07 21:40:15,928 ib_insync.wrapper INFO updatePortfolio: PortfolioItem(contract=Option(conId=763248479, symbol='WSM', lastTradeDateOrContractMonth='20250417', strike=150.0, right='P', multiplier='100', primaryExchange='AMEX', currency='USD', localSymbol='WSM   250417P00150000', tradingClass='WSM'), position=1.0, marketPrice=10.9489603, marketValue=1094.9, averageCost=760.3067, unrealizedPNL=334.59, realizedPNL=0.0, account='DU5417029')\n",
      "2025-04-07 21:41:57,018 ib_insync.wrapper ERROR Error 10168, reqId 93: Requested market data is not subscribed. Delayed market data is not enabled, contract: Option(conId=763248479, symbol='WSM', lastTradeDateOrContractMonth='20250417', strike=150.0, right='P', multiplier='100', exchange='SMART', currency='USD', localSymbol='WSM   250417P00150000', tradingClass='WSM')\n",
      "2025-04-07 21:41:58,124 ib_insync.wrapper ERROR Error 10168, reqId 96: Requested market data is not subscribed. Delayed market data is not enabled, contract: Option(conId=763248479, symbol='WSM', lastTradeDateOrContractMonth='20250417', strike=150.0, right='P', multiplier='100', exchange='SMART', currency='USD', localSymbol='WSM   250417P00150000', tradingClass='WSM')\n",
      "2025-04-07 21:41:58,223 ib_insync.wrapper ERROR Error 10168, reqId 97: Requested market data is not subscribed. Delayed market data is not enabled, contract: Option(conId=755327783, symbol='BIDU', lastTradeDateOrContractMonth='20250516', strike=95.0, right='P', multiplier='100', exchange='SMART', currency='USD', localSymbol='BIDU  250516P00095000', tradingClass='BIDU')\n",
      "2025-04-07 21:41:59,432 ib_insync.wrapper ERROR Error 10168, reqId 100: Requested market data is not subscribed. Delayed market data is not enabled, contract: Option(conId=755327783, symbol='BIDU', lastTradeDateOrContractMonth='20250516', strike=95.0, right='P', multiplier='100', exchange='SMART', currency='USD', localSymbol='BIDU  250516P00095000', tradingClass='BIDU')\n",
      "2025-04-07 21:41:59,532 ib_insync.wrapper ERROR Error 10168, reqId 101: Requested market data is not subscribed. Delayed market data is not enabled, contract: Option(conId=755327744, symbol='BIDU', lastTradeDateOrContractMonth='20250516', strike=90.0, right='P', multiplier='100', exchange='SMART', currency='USD', localSymbol='BIDU  250516P00090000', tradingClass='BIDU')\n",
      "2025-04-07 21:42:00,638 ib_insync.wrapper ERROR Error 10168, reqId 104: Requested market data is not subscribed. Delayed market data is not enabled, contract: Option(conId=755327744, symbol='BIDU', lastTradeDateOrContractMonth='20250516', strike=90.0, right='P', multiplier='100', exchange='SMART', currency='USD', localSymbol='BIDU  250516P00090000', tradingClass='BIDU')\n",
      "2025-04-07 21:42:00,952 ib_insync.wrapper ERROR Error 354, reqId 105: Requested market data is not subscribed.Delayed market data is available.INTC NASDAQ.NMS/TOP/ALL, contract: Stock(conId=270639, symbol='INTC', exchange='ISLAND', primaryExchange='ISLAND', currency='USD', localSymbol='INTC', tradingClass='NMS')\n",
      "2025-04-07 21:42:02,454 ib_insync.wrapper ERROR Error 354, reqId 108: Requested market data is not subscribed.Delayed market data is available.INTC NASDAQ.NMS/TOP/ALL, contract: Stock(conId=270639, symbol='INTC', exchange='ISLAND', primaryExchange='ISLAND', currency='USD', localSymbol='INTC', tradingClass='NMS')\n",
      "2025-04-07 21:42:02,455 ib_insync.wrapper ERROR Error 354, reqId 109: Requested market data is not subscribed.Delayed market data is available.GOOG NASDAQ.NMS/TOP/ALL, contract: Stock(conId=208813720, symbol='GOOG', exchange='ISLAND', primaryExchange='ISLAND', currency='USD', localSymbol='GOOG', tradingClass='NMS')\n",
      "2025-04-07 21:42:03,622 ib_insync.wrapper ERROR Error 10168, reqId 113: Requested market data is not subscribed. Delayed market data is not enabled, contract: Option(conId=722886491, symbol='CTSH', lastTradeDateOrContractMonth='20250417', strike=75.0, right='P', multiplier='100', exchange='SMART', currency='USD', localSymbol='CTSH  250417P00075000', tradingClass='CTSH')\n",
      "2025-04-07 21:42:04,206 ib_insync.wrapper ERROR Error 354, reqId 112: Requested market data is not subscribed.Delayed market data is available.GOOG NASDAQ.NMS/TOP/ALL, contract: Stock(conId=208813720, symbol='GOOG', exchange='ISLAND', primaryExchange='ISLAND', currency='USD', localSymbol='GOOG', tradingClass='NMS')\n",
      "2025-04-07 21:42:04,728 ib_insync.wrapper ERROR Error 10168, reqId 116: Requested market data is not subscribed. Delayed market data is not enabled, contract: Option(conId=722886491, symbol='CTSH', lastTradeDateOrContractMonth='20250417', strike=75.0, right='P', multiplier='100', exchange='SMART', currency='USD', localSymbol='CTSH  250417P00075000', tradingClass='CTSH')\n",
      "2025-04-07 21:42:05,709 ib_insync.wrapper ERROR Error 354, reqId 117: Requested market data is not subscribed.Delayed market data is available.LI NASDAQ.NMS/TOP/ALL, contract: Stock(conId=436980133, symbol='LI', exchange='ISLAND', primaryExchange='ISLAND', currency='USD', localSymbol='LI', tradingClass='NMS')\n",
      "2025-04-07 21:42:06,148 ib_insync.wrapper ERROR Error 10168, reqId 121: Requested market data is not subscribed. Delayed market data is not enabled, contract: Option(conId=763248394, symbol='WSM', lastTradeDateOrContractMonth='20250417', strike=145.0, right='P', multiplier='100', exchange='SMART', currency='USD', localSymbol='WSM   250417P00145000', tradingClass='WSM')\n",
      "2025-04-07 21:42:06,710 ib_insync.wrapper ERROR Error 354, reqId 120: Requested market data is not subscribed.Delayed market data is available.LI NASDAQ.NMS/TOP/ALL, contract: Stock(conId=436980133, symbol='LI', exchange='ISLAND', primaryExchange='ISLAND', currency='USD', localSymbol='LI', tradingClass='NMS')\n",
      "2025-04-07 21:42:07,349 ib_insync.wrapper ERROR Error 10168, reqId 124: Requested market data is not subscribed. Delayed market data is not enabled, contract: Option(conId=763248394, symbol='WSM', lastTradeDateOrContractMonth='20250417', strike=145.0, right='P', multiplier='100', exchange='SMART', currency='USD', localSymbol='WSM   250417P00145000', tradingClass='WSM')\n",
      "2025-04-07 21:42:08,212 ib_insync.wrapper ERROR Error 354, reqId 125: Requested market data is not subscribed.Delayed market data is available.ALB NYSE/TOP/ALL, contract: Stock(conId=4347, symbol='ALB', exchange='NYSE', primaryExchange='NYSE', currency='USD', localSymbol='ALB', tradingClass='ALB')\n",
      "2025-04-07 21:42:08,762 ib_insync.wrapper ERROR Error 10168, reqId 129: Requested market data is not subscribed. Delayed market data is not enabled, contract: Option(conId=722886411, symbol='CTSH', lastTradeDateOrContractMonth='20250417', strike=72.5, right='P', multiplier='100', exchange='SMART', currency='USD', localSymbol='CTSH  250417P00072500', tradingClass='CTSH')\n",
      "2025-04-07 21:42:09,214 ib_insync.wrapper ERROR Error 354, reqId 128: Requested market data is not subscribed.Delayed market data is available.ALB NYSE/TOP/ALL, contract: Stock(conId=4347, symbol='ALB', exchange='NYSE', primaryExchange='NYSE', currency='USD', localSymbol='ALB', tradingClass='ALB')\n",
      "2025-04-07 21:42:09,871 ib_insync.wrapper ERROR Error 10168, reqId 132: Requested market data is not subscribed. Delayed market data is not enabled, contract: Option(conId=722886411, symbol='CTSH', lastTradeDateOrContractMonth='20250417', strike=72.5, right='P', multiplier='100', exchange='SMART', currency='USD', localSymbol='CTSH  250417P00072500', tradingClass='CTSH')\n",
      "2025-04-07 21:43:16,100 ib_insync.wrapper INFO updatePortfolio: PortfolioItem(contract=Stock(conId=4347, symbol='ALB', right='0', primaryExchange='NYSE', currency='USD', localSymbol='ALB', tradingClass='ALB'), position=100.0, marketPrice=57.92901995, marketValue=5792.9, averageCost=73.137174, unrealizedPNL=-1520.82, realizedPNL=0.0, account='DU5417029')\n",
      "2025-04-07 21:43:16,103 ib_insync.wrapper INFO updatePortfolio: PortfolioItem(contract=Stock(conId=270639, symbol='INTC', right='0', primaryExchange='ISLAND', currency='USD', localSymbol='INTC', tradingClass='NMS'), position=100.0, marketPrice=19.4699993, marketValue=1947.0, averageCost=23.348113, unrealizedPNL=-387.81, realizedPNL=0.0, account='DU5417029')\n",
      "2025-04-07 21:43:16,112 ib_insync.wrapper INFO updatePortfolio: PortfolioItem(contract=Stock(conId=208813720, symbol='GOOG', right='0', primaryExchange='ISLAND', currency='USD', localSymbol='GOOG', tradingClass='NMS'), position=-200.0, marketPrice=148.69000245, marketValue=-29738.0, averageCost=157.5295695, unrealizedPNL=1767.91, realizedPNL=0.0, account='DU5417029')\n",
      "2025-04-07 21:43:16,116 ib_insync.wrapper INFO updatePortfolio: PortfolioItem(contract=Stock(conId=436980133, symbol='LI', right='0', primaryExchange='ISLAND', currency='USD', localSymbol='LI', tradingClass='NMS'), position=100.0, marketPrice=21.40999985, marketValue=2141.0, averageCost=25.704017, unrealizedPNL=-429.4, realizedPNL=0.0, account='DU5417029')\n",
      "2025-04-07 21:43:16,121 ib_insync.wrapper INFO updatePortfolio: PortfolioItem(contract=Option(conId=722886411, symbol='CTSH', lastTradeDateOrContractMonth='20250417', strike=72.5, right='P', multiplier='100', primaryExchange='AMEX', currency='USD', localSymbol='CTSH  250417P00072500', tradingClass='CTSH'), position=1.0, marketPrice=6.17782355, marketValue=617.78, averageCost=61.0567, unrealizedPNL=556.73, realizedPNL=0.0, account='DU5417029')\n",
      "2025-04-07 21:43:16,125 ib_insync.wrapper INFO updatePortfolio: PortfolioItem(contract=Option(conId=722886491, symbol='CTSH', lastTradeDateOrContractMonth='20250417', strike=75.0, right='P', multiplier='100', primaryExchange='AMEX', currency='USD', localSymbol='CTSH  250417P00075000', tradingClass='CTSH'), position=-3.0, marketPrice=8.2112303, marketValue=-2463.37, averageCost=94.43793335, unrealizedPNL=-2180.06, realizedPNL=0.0, account='DU5417029')\n",
      "2025-04-07 21:43:16,126 ib_insync.wrapper INFO updatePortfolio: PortfolioItem(contract=Option(conId=755327744, symbol='BIDU', lastTradeDateOrContractMonth='20250516', strike=90.0, right='P', multiplier='100', primaryExchange='AMEX', currency='USD', localSymbol='BIDU  250516P00090000', tradingClass='BIDU'), position=1.0, marketPrice=12.52149675, marketValue=1252.15, averageCost=283.6367, unrealizedPNL=968.51, realizedPNL=0.0, account='DU5417029')\n",
      "2025-04-07 21:43:16,128 ib_insync.wrapper INFO updatePortfolio: PortfolioItem(contract=Option(conId=755327783, symbol='BIDU', lastTradeDateOrContractMonth='20250516', strike=95.0, right='P', multiplier='100', primaryExchange='AMEX', currency='USD', localSymbol='BIDU  250516P00095000', tradingClass='BIDU'), position=-2.0, marketPrice=16.46133615, marketValue=-3292.27, averageCost=429.6986, unrealizedPNL=-2432.87, realizedPNL=0.0, account='DU5417029')\n",
      "2025-04-07 21:43:16,130 ib_insync.wrapper INFO updatePortfolio: PortfolioItem(contract=Option(conId=760988597, symbol='ALB', lastTradeDateOrContractMonth='20250404', strike=75.0, right='P', multiplier='100', primaryExchange='AMEX', currency='USD', localSymbol='ALB   250404P00075000', tradingClass='ALB'), position=0.0, marketPrice=17.05603025, marketValue=0.0, averageCost=0.0, unrealizedPNL=0.0, realizedPNL=0.0, account='DU5417029')\n",
      "2025-04-07 21:43:16,133 ib_insync.wrapper INFO updatePortfolio: PortfolioItem(contract=Option(conId=760988670, symbol='ALB', lastTradeDateOrContractMonth='20250404', strike=76.0, right='P', multiplier='100', primaryExchange='AMEX', currency='USD', localSymbol='ALB   250404P00076000', tradingClass='ALB'), position=0.0, marketPrice=18.05603025, marketValue=0.0, averageCost=0.0, unrealizedPNL=0.0, realizedPNL=0.0, account='DU5417029')\n",
      "2025-04-07 21:43:16,133 ib_insync.wrapper INFO updatePortfolio: PortfolioItem(contract=Option(conId=763248394, symbol='WSM', lastTradeDateOrContractMonth='20250417', strike=145.0, right='P', multiplier='100', primaryExchange='AMEX', currency='USD', localSymbol='WSM   250417P00145000', tradingClass='WSM'), position=-2.0, marketPrice=8.53940295, marketValue=-1707.88, averageCost=510.0264, unrealizedPNL=-687.83, realizedPNL=0.0, account='DU5417029')\n",
      "2025-04-07 21:43:16,135 ib_insync.wrapper INFO updatePortfolio: PortfolioItem(contract=Option(conId=763248479, symbol='WSM', lastTradeDateOrContractMonth='20250417', strike=150.0, right='P', multiplier='100', primaryExchange='AMEX', currency='USD', localSymbol='WSM   250417P00150000', tradingClass='WSM'), position=1.0, marketPrice=11.3695402, marketValue=1136.95, averageCost=760.3067, unrealizedPNL=376.65, realizedPNL=0.0, account='DU5417029')\n"
     ]
    }
   ],
   "source": [
    "#enable before logging see end of this file\n",
    "# connect paper\n",
    "ib = IB()\n",
    "ib.connect('127.0.0.1', 7496, clientId=37)"
   ]
  },
  {
   "cell_type": "markdown",
   "metadata": {},
   "source": [
    "If the connection failed, then verify that the application has the API port enabled and double-check the hostname and port. For IB Gateway the default port is 4002. Make sure the clientId is not already in use.\n",
    "\n",
    "If the connection succeeded, then ib will be synchronized with TWS/IBG. The \"current state\" is now available via methods such as ib.positions(), ib.trades(), ib.openTrades(), ib.accountValues() or ib.tickers(). Let's list the current positions:"
   ]
  },
  {
   "cell_type": "code",
   "execution_count": null,
   "metadata": {},
   "outputs": [],
   "source": [
    "ib.positions()"
   ]
  },
  {
   "cell_type": "markdown",
   "metadata": {},
   "source": [
    "# try out deep information"
   ]
  },
  {
   "cell_type": "code",
   "execution_count": null,
   "metadata": {},
   "outputs": [],
   "source": [
    "positions = ib.positions()"
   ]
  },
  {
   "cell_type": "code",
   "execution_count": 21,
   "metadata": {},
   "outputs": [
    {
     "name": "stdout",
     "output_type": "stream",
     "text": [
      "Market Data [Option(conId=763248479, symbol='WSM', lastTradeDateOrContractMonth='20250417', strike=150.0, right='P', multiplier='100', exchange='SMART', currency='USD', localSymbol='WSM   250417P00150000', tradingClass='WSM')]\n",
      "Bid: nan, Ask: nan, Last: nan\n",
      "Market Data [Option(conId=755327783, symbol='BIDU', lastTradeDateOrContractMonth='20250516', strike=95.0, right='P', multiplier='100', exchange='SMART', currency='USD', localSymbol='BIDU  250516P00095000', tradingClass='BIDU')]\n",
      "Bid: nan, Ask: nan, Last: nan\n",
      "Market Data [Option(conId=755327744, symbol='BIDU', lastTradeDateOrContractMonth='20250516', strike=90.0, right='P', multiplier='100', exchange='SMART', currency='USD', localSymbol='BIDU  250516P00090000', tradingClass='BIDU')]\n",
      "Bid: nan, Ask: nan, Last: nan\n",
      "Market Data [Stock(conId=270639, symbol='INTC', exchange='ISLAND', primaryExchange='ISLAND', currency='USD', localSymbol='INTC', tradingClass='NMS')]\n",
      "Bid: nan, Ask: nan, Last: nan\n",
      "Market Data [Stock(conId=208813720, symbol='GOOG', exchange='ISLAND', primaryExchange='ISLAND', currency='USD', localSymbol='GOOG', tradingClass='NMS')]\n",
      "Bid: nan, Ask: nan, Last: nan\n",
      "Market Data [Option(conId=722886491, symbol='CTSH', lastTradeDateOrContractMonth='20250417', strike=75.0, right='P', multiplier='100', exchange='SMART', currency='USD', localSymbol='CTSH  250417P00075000', tradingClass='CTSH')]\n",
      "Bid: nan, Ask: nan, Last: nan\n",
      "Market Data [Stock(conId=436980133, symbol='LI', exchange='ISLAND', primaryExchange='ISLAND', currency='USD', localSymbol='LI', tradingClass='NMS')]\n",
      "Bid: nan, Ask: nan, Last: nan\n",
      "Market Data [Option(conId=763248394, symbol='WSM', lastTradeDateOrContractMonth='20250417', strike=145.0, right='P', multiplier='100', exchange='SMART', currency='USD', localSymbol='WSM   250417P00145000', tradingClass='WSM')]\n",
      "Bid: nan, Ask: nan, Last: nan\n",
      "Market Data [Stock(conId=4347, symbol='ALB', exchange='NYSE', primaryExchange='NYSE', currency='USD', localSymbol='ALB', tradingClass='ALB')]\n",
      "Bid: nan, Ask: nan, Last: nan\n",
      "Market Data [Option(conId=722886411, symbol='CTSH', lastTradeDateOrContractMonth='20250417', strike=72.5, right='P', multiplier='100', exchange='SMART', currency='USD', localSymbol='CTSH  250417P00072500', tradingClass='CTSH')]\n",
      "Bid: nan, Ask: nan, Last: nan\n"
     ]
    }
   ],
   "source": [
    "for position in positions:\n",
    "        contract = position.contract\n",
    "        # market_data = ib.reqMktData(contract)\n",
    "        ib.reqMktData(contract)\n",
    "        market_data  = ib.qualifyContracts(contract)\n",
    "        print(\"Market Data {}\".format(market_data))\n",
    "        ib.sleep(1)  # Allow time for market data to be received\n",
    "        ib.reqContractDetails(contract)\n",
    "\n",
    "        # FROM HERE\n",
    "        # https://blog.stackademic.com/streaming-real-time-market-data-with-interactive-brokers-tws-api-in-python-a-practical-guide-9fb055fbecc8\n",
    "\n",
    "        # Request market data for the contract\n",
    "        market_data = ib.reqMktData(contract)\n",
    "\n",
    "        if market_data:\n",
    "                print(f\"Bid: {market_data.bid}, Ask: {market_data.ask}, Last: {market_data.last}\")\n",
    "        else:\n",
    "                print(\"No market data received.\")\n",
    "        # print(\"Symbol => {} \".format(contract.localSymbol))\n",
    "        # print(\"Symbol => {} \".format(contract.localSymbol))\n",
    "        # print(\"Symbol => {} \".format(contract.localSymbol))\n"
   ]
  },
  {
   "cell_type": "markdown",
   "metadata": {},
   "source": [
    "Or filter the account values to get the liquidation value:"
   ]
  },
  {
   "cell_type": "code",
   "execution_count": null,
   "metadata": {},
   "outputs": [],
   "source": [
    "[v for v in ib.accountValues() if v.tag == 'NetLiquidationByCurrency' and v.currency == 'BASE']"
   ]
  },
  {
   "cell_type": "markdown",
   "metadata": {},
   "source": [
    "The \"current state\" will automatically be kept in sync with TWS/IBG. So an order fill will be added as soon as it is reported, or account values will be updated as soon as they change in TWS."
   ]
  },
  {
   "cell_type": "markdown",
   "metadata": {},
   "source": [
    "### Contracts\n",
    "\n",
    "Contracts can be specified in different ways:\n",
    "* The ibapi way, by creating an empty Contract object and setting its attributes one by one;\n",
    "* By using Contract and giving the attributes as keyword argument;\n",
    "* By using the specialized Stock, Option, Future, Forex, Index, CFD, Commodity,\n",
    "  Bond, FuturesOption, MutualFund or Warrant contracts.\n",
    "\n",
    "Some examples:"
   ]
  },
  {
   "cell_type": "code",
   "execution_count": null,
   "metadata": {},
   "outputs": [],
   "source": [
    "Contract(conId=270639)\n",
    "Stock('AMD', 'SMART', 'USD')\n",
    "Stock('INTC', 'SMART', 'USD', primaryExchange='NASDAQ')\n",
    "Forex('EURUSD')\n",
    "CFD('IBUS30')\n",
    "Future('ES', '20180921', 'GLOBEX')\n",
    "Option('SPY', '20170721', 240, 'C', 'SMART')\n",
    "Bond(secIdType='ISIN', secId='US03076KAA60');"
   ]
  },
  {
   "cell_type": "markdown",
   "metadata": {},
   "source": [
    "### Sending a request\n",
    "\n",
    "The IB class has nearly all request methods that the IB API offers. The methods that return a result will block until finished and then return the result. Take for example reqContractDetails:"
   ]
  },
  {
   "cell_type": "code",
   "execution_count": null,
   "metadata": {},
   "outputs": [],
   "source": [
    "contract = Stock('TSLA', 'SMART', 'USD')\n",
    "ib.reqContractDetails(contract)"
   ]
  },
  {
   "cell_type": "markdown",
   "metadata": {},
   "source": [
    "### Current state vs request\n",
    "\n",
    "Doing a request involves network traffic going up and down and can take considerable time. The current state on the other hand is always immediately available. So it is preferable to use the current state methods over requests. For example, use ``ib.openOrders()`` in preference over ``ib.reqOpenOrders()``, or ``ib.positions()`` over ``ib.reqPositions()``, etc:"
   ]
  },
  {
   "cell_type": "code",
   "execution_count": null,
   "metadata": {},
   "outputs": [],
   "source": [
    "%time l = ib.positions()"
   ]
  },
  {
   "cell_type": "code",
   "execution_count": null,
   "metadata": {},
   "outputs": [],
   "source": [
    "%time l = ib.reqPositions()"
   ]
  },
  {
   "cell_type": "markdown",
   "metadata": {},
   "source": [
    "### Logging\n",
    "\n",
    "The following will put log messages of INFO and higher level under the current active cell:"
   ]
  },
  {
   "cell_type": "code",
   "execution_count": null,
   "metadata": {},
   "outputs": [],
   "source": [
    "util.logToConsole()"
   ]
  },
  {
   "cell_type": "markdown",
   "metadata": {},
   "source": [
    "To see all debug messages (including network traffic):"
   ]
  },
  {
   "cell_type": "code",
   "execution_count": null,
   "metadata": {},
   "outputs": [],
   "source": [
    "import logging\n",
    "util.logToConsole(logging.DEBUG)\n",
    "\n"
   ]
  },
  {
   "cell_type": "code",
   "execution_count": null,
   "metadata": {},
   "outputs": [],
   "source": [
    "import logging\n",
    "util.logToConsole(logging.INFO)"
   ]
  },
  {
   "cell_type": "markdown",
   "metadata": {},
   "source": [
    "### Disconnecting\n",
    "\n",
    "The following will disconnect ``ib`` and clear all its state:"
   ]
  },
  {
   "cell_type": "code",
   "execution_count": null,
   "metadata": {},
   "outputs": [],
   "source": [
    "ib.disconnect()"
   ]
  }
 ],
 "metadata": {
  "kernelspec": {
   "display_name": ".venv",
   "language": "python",
   "name": "python3"
  },
  "language_info": {
   "codemirror_mode": {
    "name": "ipython",
    "version": 3
   },
   "file_extension": ".py",
   "mimetype": "text/x-python",
   "name": "python",
   "nbconvert_exporter": "python",
   "pygments_lexer": "ipython3",
   "version": "3.11.2"
  }
 },
 "nbformat": 4,
 "nbformat_minor": 4
}
